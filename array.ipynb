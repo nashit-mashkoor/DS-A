{
 "metadata": {
  "language_info": {
   "codemirror_mode": {
    "name": "ipython",
    "version": 3
   },
   "file_extension": ".py",
   "mimetype": "text/x-python",
   "name": "python",
   "nbconvert_exporter": "python",
   "pygments_lexer": "ipython3",
   "version": "3.8.3"
  },
  "orig_nbformat": 4,
  "kernelspec": {
   "name": "python3",
   "display_name": "Python 3.8.3 64-bit ('pySM': conda)"
  },
  "interpreter": {
   "hash": "50af4c5cfc17f7d07f96e4ed60bdbed991f9fcc97bc2ecf77b1d4ad1508ab974"
  }
 },
 "nbformat": 4,
 "nbformat_minor": 2,
 "cells": [
  {
   "source": [
    "# Data structure: Array\n"
   ],
   "cell_type": "markdown",
   "metadata": {}
  },
  {
   "source": [
    "# Concepts to remember\n",
    "1. "
   ],
   "cell_type": "markdown",
   "metadata": {}
  },
  {
   "source": [
    "# Q1:\n",
    "\n",
    "Given an array (or string), the task is to reverse the array/string. <br>\n",
    "\n",
    "Examples : \n",
    "\n",
    "Input  : arr[] = {1, 2, 3}\n",
    "Output : arr[] = {3, 2, 1}\n",
    "\n",
    "Input :  arr[] = {4, 5, 1, 2}\n",
    "Output : arr[] = {2, 1, 5, 4}"
   ],
   "cell_type": "markdown",
   "metadata": {}
  },
  {
   "source": [
    "## S1:"
   ],
   "cell_type": "markdown",
   "metadata": {}
  },
  {
   "source": [
    "### Approach:\n",
    "1. Iterative:\n",
    "    * Traverse the array from start to half\n",
    "    * Swap the element at the end\n",
    "    \n",
    "2. Recursive:\n",
    "    * Recursively traverse the array\n",
    "    * Swap the complementry elements\n",
    "\n"
   ],
   "cell_type": "markdown",
   "metadata": {}
  },
  {
   "source": [
    "### Code:"
   ],
   "cell_type": "markdown",
   "metadata": {}
  },
  {
   "cell_type": "code",
   "execution_count": 10,
   "metadata": {},
   "outputs": [
    {
     "output_type": "stream",
     "name": "stdout",
     "text": [
      "Reversed array: [4, 3, 2, 1]\nReversed array: [1, 3, 4, 5]\n"
     ]
    }
   ],
   "source": [
    "# Iterative\n",
    "def reverse(arr):\n",
    "    arr_len = len(arr)\n",
    "    for i in range(len(arr) // 2):\n",
    "        arr[i], arr[arr_len - i - 1] = arr[arr_len - i - 1], arr[i]\n",
    "    return arr\n",
    "print('Reversed array: {}'.format(reverse([1,2,3,4])))\n",
    "print('Reversed array: {}'.format(reverse([5,4,3,1])))\n"
   ]
  },
  {
   "cell_type": "code",
   "execution_count": 9,
   "metadata": {},
   "outputs": [
    {
     "output_type": "stream",
     "name": "stdout",
     "text": [
      "Reversed array: [4, 2, 3, 1]\nReversed array: [1, 4, 3, 5]\n"
     ]
    }
   ],
   "source": [
    "# Recursive\n",
    "def reverse(arr):\n",
    "    if len(arr) == 0 or len(arr) == 1:\n",
    "        return arr\n",
    "    arr[0], arr[len(arr) - 1] =  arr[len(arr) - 1], arr[0]\n",
    "    reverse(arr[1:len(arr) - 1])\n",
    "    return arr\n",
    "print('Reversed array: {}'.format(reverse([1,2,3,4])))\n",
    "print('Reversed array: {}'.format(reverse([5,4,3,1])))"
   ]
  },
  {
   "source": [
    "### Time Complexity:\n",
    "1. Iterative\n",
    "    * Time O(n)\n",
    "    * Space O(1)\n",
    "2. Recursive\n",
    "    * Time O(n)\n",
    "    * Space O(n) -> Due to recursion calls"
   ],
   "cell_type": "markdown",
   "metadata": {}
  },
  {
   "source": [],
   "cell_type": "markdown",
   "metadata": {}
  }
 ]
}